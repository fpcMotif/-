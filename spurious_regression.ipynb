{
  "nbformat": 4,
  "nbformat_minor": 0,
  "metadata": {
    "colab": {
      "name": "spurious-regression.ipynb",
      "version": "0.3.2",
      "provenance": [],
      "include_colab_link": true
    },
    "kernelspec": {
      "display_name": "Python 3",
      "language": "python",
      "name": "python3"
    }
  },
  "cells": [
    {
      "cell_type": "markdown",
      "metadata": {
        "id": "view-in-github",
        "colab_type": "text"
      },
      "source": [
        "[View in Colaboratory](https://colab.research.google.com/github/fpcMotif/-/blob/master/spurious_regression.ipynb)"
      ]
    },
    {
      "metadata": {
        "id": "H-T3KfexVpCZ",
        "colab_type": "text"
      },
      "cell_type": "markdown",
      "source": [
        "# Spurious Correlation\n",
        "\n",
        "**Coauthored by Samuel (Siyang)  Li, Thomas Sargent, and Natasha Watkins**\n",
        "\n",
        "This notebook illustrates the phenomenon of **spurious correlation** between two uncorrelated but individually highly serially correlated time series \n",
        "\n",
        "The phenomenon surfaces when two conditions occur\n",
        "\n",
        "* the sample size is  small \n",
        "\n",
        "* both series are highly serially correlated\n",
        "\n",
        "We'll proceed by \n",
        "\n",
        "- constructing many simulations of two uncorrelated but individually serially correlated time series \n",
        "\n",
        "- for each simulation, constructing the correlation coefficient between the two series\n",
        "\n",
        "- forming a histogram of the correlation coefficient\n",
        "\n",
        "- taking that histogram as a good approximation of the population distribution of the correlation coefficient\n",
        "\n",
        "In more detail, we construct two time series governed by\n",
        "\n",
        "$$ \\eqalign{ y_{t+1} & = \\rho y_t + \\sigma \\epsilon_{t+1} \\cr\n",
        "             x_{t+1} & = \\rho x_t + \\sigma \\eta_{t+1}, \\quad t=0, \\ldots , T } $$\n",
        "             \n",
        "where\n",
        "\n",
        "* $y_0 = 0, x_0 = 0$\n",
        "\n",
        "* $\\{\\epsilon_{t+1}\\}$ is an i.i.d. process where $\\epsilon_{t+1}$ follows a normal distribution with mean zero and variance $1$\n",
        "\n",
        "* $\\{\\eta_{t+1}\\}$ is an i.i.d. process where $\\eta_{t+1}$ follows a normal distribution with mean zero and variance $1$\n",
        "\n",
        "We construct the sample correlation coefficient between the time series $y_t$ and $x_t$ of length $T$\n",
        "\n",
        "The population value of correlation coefficient is zero\n",
        "\n",
        "We want to study the distribution of the sample correlation coefficient as a function of $\\rho$ and $T$ when\n",
        "$\\sigma > 0$\n",
        "\n",
        "\n",
        "\n"
      ]
    },
    {
      "metadata": {
        "id": "QfwKsxXfVpCc",
        "colab_type": "text"
      },
      "cell_type": "markdown",
      "source": [
        "We'll begin by importing some useful modules"
      ]
    },
    {
      "metadata": {
        "id": "RuGQAp_bVpCd",
        "colab_type": "code",
        "colab": {}
      },
      "cell_type": "code",
      "source": [
        "import numpy as np\n",
        "import scipy.stats as stats\n",
        "from matplotlib import pyplot as plt\n",
        "import seaborn as sns"
      ],
      "execution_count": 0,
      "outputs": []
    },
    {
      "metadata": {
        "id": "-3PbP5FsVpCg",
        "colab_type": "text"
      },
      "cell_type": "markdown",
      "source": [
        "# Empirical distribution of correlation coefficient r"
      ]
    },
    {
      "metadata": {
        "id": "i68cqFkhVpCh",
        "colab_type": "text"
      },
      "cell_type": "markdown",
      "source": [
        "We now set up a function to generate a panel of simulations of two identical independent AR(1) time series\n",
        "\n",
        "We set the function up so that all arguments are keyword arguments with associated default values\n",
        "\n",
        "- location is the common mathematical expectation of the innovations in the two independent autoregressions\n",
        "\n",
        "- sigma is the common standard deviation of the indepedent innovations in the two autoregressions \n",
        "\n",
        "- rho is the common auroregression coefficient of the two  AR(1) processes\n",
        "\n",
        "- sample_size_series is the length of each of the two time series\n",
        "\n",
        "- simulation is the number of simulations used to generate an empirical distribution of the correlation of the two uncorrelated time series"
      ]
    },
    {
      "metadata": {
        "id": "IIyczzsqVpCj",
        "colab_type": "code",
        "colab": {}
      },
      "cell_type": "code",
      "source": [
        "def spurious_reg(rho=0, sigma=10, location=0, sample_size_series=300, simulation=5000):\n",
        "    \"\"\"\n",
        "    Gsenerate two independent AR(1) time series with parameters: rho, sigma, location, \n",
        "    sample_size_series(r.v. in one series), simulation. \n",
        "    Output : displays distribution of empirical correlation\n",
        "    \"\"\"\n",
        "        \n",
        "    def generate_time_series():\n",
        "        # Generates a time series given parameters\n",
        "        \n",
        "        x = []  # Array for time series\n",
        "        x.append(np.random.normal(location/(1 - rho), sigma/np.sqrt(1 - rho**2), 1))  # Initial condition\n",
        "        x_temp = x[0]\n",
        "        epsilon = np.random.normal(location, sigma, sample_size_series)  # Random draw\n",
        "        T = range(sample_size_series - 1)\n",
        "        for t in T:\n",
        "            x_temp = x_temp * rho + epsilon[t]  # Find next step in time series\n",
        "            x.append(x_temp)\n",
        "        return x\n",
        "    \n",
        "    r_list = []  # Create list to store correlation coefficients\n",
        "    \n",
        "    for round in range(simulation):    \n",
        "        y = generate_time_series()\n",
        "        x = generate_time_series()\n",
        "        r = stats.pearsonr(y, x)[0]  # Find correlation coefficient\n",
        "        r_list.append(r)    \n",
        "     \n",
        "    fig, ax = plt.subplots()\n",
        "    sns.distplot(r_list, kde=True, rug=False, hist=True, ax=ax)  # Plot distribution of r\n",
        "    ax.set_xlim(-1, 1)\n",
        "    plt.show()"
      ],
      "execution_count": 0,
      "outputs": []
    },
    {
      "metadata": {
        "id": "b41f3N4kVpCl",
        "colab_type": "text"
      },
      "cell_type": "markdown",
      "source": [
        "### Comparisons of two value of $\\rho$\n",
        "\n",
        "The next two cells we'll compare outcomes with a low $\\rho$ versus a high $\\rho$\n"
      ]
    },
    {
      "metadata": {
        "id": "L9_0dUxMVpCm",
        "colab_type": "code",
        "outputId": "2538e08d-a112-48f9-8f41-109841d1a76a",
        "colab": {}
      },
      "cell_type": "code",
      "source": [
        "spurious_reg(0, 10, 0, 300, 5000)  # rho = 0"
      ],
      "execution_count": 0,
      "outputs": [
        {
          "output_type": "display_data",
          "data": {
            "image/png": "[encoded data removed]",
            "text/plain": [
              "<matplotlib.figure.Figure at 0x1164b2ef0>"
            ]
          },
          "metadata": {
            "tags": []
          }
        }
      ]
    },
    {
      "metadata": {
        "id": "BT92KZnJVpCq",
        "colab_type": "text"
      },
      "cell_type": "markdown",
      "source": [
        "For rho = 0.5"
      ]
    },
    {
      "metadata": {
        "id": "-GIOWHlrVpCr",
        "colab_type": "code",
        "outputId": "d196db82-c430-4097-ae97-ac4c2c2712e7",
        "colab": {}
      },
      "cell_type": "code",
      "source": [
        "spurious_reg( 0.99, 10, 0, 300, 5000)  # rho = .99"
      ],
      "execution_count": 0,
      "outputs": [
        {
          "output_type": "display_data",
          "data": {
            "image/png": "[encoded data removed]",
            "text/plain": [
              "<matplotlib.figure.Figure at 0x10c744a90>"
            ]
          },
          "metadata": {
            "tags": []
          }
        }
      ]
    },
    {
      "metadata": {
        "id": "4RjfQ5m3VpCu",
        "colab_type": "text"
      },
      "cell_type": "markdown",
      "source": [
        "What if we change the series to length 2000 when $\\rho $ is high?"
      ]
    },
    {
      "metadata": {
        "id": "p5HjWaJ9VpCv",
        "colab_type": "code",
        "outputId": "d17acc00-c728-4e65-b95f-1a99d585b604",
        "colab": {}
      },
      "cell_type": "code",
      "source": [
        "spurious_reg(0.99, 10, 0, 2000, 5000)"
      ],
      "execution_count": 0,
      "outputs": [
        {
          "output_type": "display_data",
          "data": {
            "image/png": "[encoded data removed]",
            "text/plain": [
              "<matplotlib.figure.Figure at 0x11670a940>"
            ]
          },
          "metadata": {
            "tags": []
          }
        }
      ]
    },
    {
      "metadata": {
        "id": "rR8RxLHOVpCz",
        "colab_type": "text"
      },
      "cell_type": "markdown",
      "source": [
        "###  Try other values that you want\n",
        "\n",
        "Now let's use the sliders provided by widgets to experiment\n",
        "\n",
        "(Please feel free to edit the following cell in order to change the range of admissible values of $T$ and $\\rho$)\n"
      ]
    },
    {
      "metadata": {
        "id": "uvqhYcTPVpC1",
        "colab_type": "code",
        "outputId": "1480deec-8e6f-4be3-b342-0694b063d53c",
        "colab": {}
      },
      "cell_type": "code",
      "source": [
        "from ipywidgets import interactive, fixed, IntSlider\n",
        "\n",
        "interactive(spurious_reg, \n",
        "            rho=(0, 0.999, 0.01),\n",
        "            sigma=fixed(10), \n",
        "            location=fixed(0), \n",
        "            sample_size_series=IntSlider(min=20, max=300, step=1, description='T'), \n",
        "            simulation=fixed(1000))"
      ],
      "execution_count": 0,
      "outputs": [
        {
          "output_type": "display_data",
          "data": {
            "application/vnd.jupyter.widget-view+json": {
              "model_id": "0c1e5616f0df4effbcc31bbe2c18ec69",
              "version_major": 2,
              "version_minor": 0
            },
            "text/plain": [
              "A Jupyter Widget"
            ]
          },
          "metadata": {
            "tags": []
          }
        }
      ]
    },
    {
      "metadata": {
        "id": "atV3jwd1VpC4",
        "colab_type": "code",
        "colab": {}
      },
      "cell_type": "code",
      "source": [
        ""
      ],
      "execution_count": 0,
      "outputs": []
    }
  ]
}